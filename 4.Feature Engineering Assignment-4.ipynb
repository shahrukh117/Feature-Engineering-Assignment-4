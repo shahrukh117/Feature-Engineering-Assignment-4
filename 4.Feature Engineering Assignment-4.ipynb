{
 "cells": [
  {
   "cell_type": "markdown",
   "id": "2d0cc7df-2ee2-4ce2-a19d-439fcb46ac11",
   "metadata": {},
   "source": [
    "### Q1. What is the difference between Ordinal Encoding and Label Encoding? Provide an example of when you might choose one over the other."
   ]
  },
  {
   "cell_type": "markdown",
   "id": "eb8a20ef-0241-429a-ae98-a415d9e5c700",
   "metadata": {},
   "source": [
    "**Difference between Ordinal Encoding and Label Encoding:**\n",
    "\n",
    "- **Label Encoding:** It's a simple technique where each category is assigned a unique integer. There's no inherent order in the encoding. For example, in \"Color\" encoding, red might be 0, green might be 1, and blue might be 2.\n",
    "- **Ordinal Encoding:** Here, categories are encoded based on their ordinal relationship, i.e., their inherent order is preserved. For instance, in \"Size\" encoding, small might be 0, medium might be 1, and large might be 2.\n",
    "- You might choose Label Encoding when there's no inherent order in the categories, whereas Ordinal Encoding is preferred when there's a clear order."
   ]
  },
  {
   "cell_type": "markdown",
   "id": "334f17d3-d5b0-4bfb-99b9-587a2e18396e",
   "metadata": {},
   "source": [
    "### Q2. Explain how Target Guided Ordinal Encoding works and provide an example of when you might use it in a machine learning project."
   ]
  },
  {
   "cell_type": "markdown",
   "id": "c54b844a-bc23-4469-80e1-9d4be47fcc03",
   "metadata": {},
   "source": [
    "Target Guided Ordinal Encoding is a technique used to encode categorical variables based on the relationship between the categories and the target variable in a machine learning project. It assigns ordinal ranks to categories based on the mean of the target variable within each category.\n",
    "\n",
    "Here's how Target Guided Ordinal Encoding works:\n",
    "\n",
    "1. Calculate the mean of the target variable for each category of the categorical variable.\n",
    "2. Rank the categories based on their mean target value, assigning a lower rank to categories with a lower mean target value (indicating a lower likelihood of the target event) and a higher rank to categories with a higher mean target value (indicating a higher likelihood of the target event).\n",
    "3. Encode the categories with the assigned ranks.\n",
    "\n",
    "Example:\n",
    "\n",
    "Suppose you have a dataset for a marketing campaign where you want to predict customer response (target variable) based on the type of product purchased (categorical variable). You can use Target Guided Ordinal Encoding to encode the product categories based on the likelihood of customer response for each category."
   ]
  },
  {
   "cell_type": "code",
   "execution_count": 1,
   "id": "cb69c2d6-127d-4f0e-a0be-b2bfb5b81642",
   "metadata": {},
   "outputs": [
    {
     "data": {
      "text/html": [
       "<div>\n",
       "<style scoped>\n",
       "    .dataframe tbody tr th:only-of-type {\n",
       "        vertical-align: middle;\n",
       "    }\n",
       "\n",
       "    .dataframe tbody tr th {\n",
       "        vertical-align: top;\n",
       "    }\n",
       "\n",
       "    .dataframe thead th {\n",
       "        text-align: right;\n",
       "    }\n",
       "</style>\n",
       "<table border=\"1\" class=\"dataframe\">\n",
       "  <thead>\n",
       "    <tr style=\"text-align: right;\">\n",
       "      <th></th>\n",
       "      <th>Product</th>\n",
       "      <th>Response</th>\n",
       "      <th>Product_Encoded</th>\n",
       "    </tr>\n",
       "  </thead>\n",
       "  <tbody>\n",
       "    <tr>\n",
       "      <th>0</th>\n",
       "      <td>A</td>\n",
       "      <td>1</td>\n",
       "      <td>2</td>\n",
       "    </tr>\n",
       "    <tr>\n",
       "      <th>1</th>\n",
       "      <td>B</td>\n",
       "      <td>0</td>\n",
       "      <td>1</td>\n",
       "    </tr>\n",
       "    <tr>\n",
       "      <th>2</th>\n",
       "      <td>A</td>\n",
       "      <td>1</td>\n",
       "      <td>2</td>\n",
       "    </tr>\n",
       "    <tr>\n",
       "      <th>3</th>\n",
       "      <td>C</td>\n",
       "      <td>1</td>\n",
       "      <td>3</td>\n",
       "    </tr>\n",
       "    <tr>\n",
       "      <th>4</th>\n",
       "      <td>B</td>\n",
       "      <td>0</td>\n",
       "      <td>1</td>\n",
       "    </tr>\n",
       "    <tr>\n",
       "      <th>5</th>\n",
       "      <td>C</td>\n",
       "      <td>1</td>\n",
       "      <td>3</td>\n",
       "    </tr>\n",
       "    <tr>\n",
       "      <th>6</th>\n",
       "      <td>A</td>\n",
       "      <td>0</td>\n",
       "      <td>2</td>\n",
       "    </tr>\n",
       "    <tr>\n",
       "      <th>7</th>\n",
       "      <td>B</td>\n",
       "      <td>1</td>\n",
       "      <td>1</td>\n",
       "    </tr>\n",
       "    <tr>\n",
       "      <th>8</th>\n",
       "      <td>C</td>\n",
       "      <td>0</td>\n",
       "      <td>3</td>\n",
       "    </tr>\n",
       "  </tbody>\n",
       "</table>\n",
       "</div>"
      ],
      "text/plain": [
       "  Product  Response  Product_Encoded\n",
       "0       A         1                2\n",
       "1       B         0                1\n",
       "2       A         1                2\n",
       "3       C         1                3\n",
       "4       B         0                1\n",
       "5       C         1                3\n",
       "6       A         0                2\n",
       "7       B         1                1\n",
       "8       C         0                3"
      ]
     },
     "execution_count": 1,
     "metadata": {},
     "output_type": "execute_result"
    }
   ],
   "source": [
    "import pandas as pd\n",
    "\n",
    "# Sample dataset\n",
    "data = {\n",
    "    'Product': ['A', 'B', 'A', 'C', 'B', 'C', 'A', 'B', 'C'],\n",
    "    'Response': [1, 0, 1, 1, 0, 1, 0, 1, 0]  # Binary target variable (1 for response, 0 for no response)\n",
    "}\n",
    "\n",
    "df = pd.DataFrame(data)\n",
    "\n",
    "# Calculate mean response rate for each product category\n",
    "mean_response = df.groupby('Product')['Response'].mean().sort_values()\n",
    "\n",
    "# Create a dictionary mapping categories to their ranks based on mean response rate\n",
    "ordinal_mapping = {product: i for i, product in enumerate(mean_response.index, 1)}\n",
    "\n",
    "# Map the categories to their assigned ranks\n",
    "df['Product_Encoded'] = df['Product'].map(ordinal_mapping)\n",
    "\n",
    "df"
   ]
  },
  {
   "cell_type": "markdown",
   "id": "da069075-d9c9-4d3c-be06-6762db9fd58e",
   "metadata": {},
   "source": [
    "\n",
    "In this example, 'Product_Encoded' column will contain the ordinal encoding based on the mean response rate of each product category. Categories with higher mean response rates will have lower encoded values, and vice versa."
   ]
  },
  {
   "cell_type": "markdown",
   "id": "887246c0-8817-4dab-aef5-598ac066da8d",
   "metadata": {},
   "source": [
    "### Q3. Define covariance and explain why it is important in statistical analysis. How is covariance calculated?"
   ]
  },
  {
   "cell_type": "markdown",
   "id": "3727ffab-e581-4835-b179-4ed279fbf75f",
   "metadata": {},
   "source": [
    "Covariance is a measure of how two variables change together. It indicates the direction of the linear relationship between variables. \n",
    "\n",
    "In statistical analysis, covariance is important because it helps understand the relationship between variables. Specifically:\n",
    "\n",
    "1. **Direction of Relationship:** Covariance can indicate whether the variables move together (positive covariance), move in opposite directions (negative covariance), or have no linear relationship (zero covariance).\n",
    "\n",
    "2. **Strength of Relationship:** The magnitude of covariance indicates the strength of the linear relationship between variables. Larger absolute values of covariance suggest a stronger relationship.\n",
    "\n",
    "3. **Independence:** If two variables are independent, their covariance will be zero. However, a covariance of zero does not necessarily imply independence, as variables can be related in nonlinear ways or through other statistical measures.\n",
    "\n",
    "Covariance between two variables $(X) $ and $(Y)$ is calculated as follows:\n",
    "\n",
    "$[\n",
    "\\text{cov}(X, Y) = \\frac{\\sum_{i=1}^{n}(X_i - \\bar{X})(Y_i - \\bar{Y})}{n}\n",
    "]$\n",
    "\n",
    "Where:\n",
    "- $(X_i)$ and $(Y_i)$ are individual data points for variables $(X)$ and $(Y)$,\n",
    "- $(\\bar{X})$ and $(\\bar{Y})$ are the means of variables $(X)$ and $(Y)$, respectively, and\n",
    "- $(n)$ is the number of data points."
   ]
  },
  {
   "cell_type": "markdown",
   "id": "3d3f76d2-d0f1-45de-af52-a90fe96ea667",
   "metadata": {},
   "source": [
    "### Q4. For a dataset with the following categorical variables: Color (red, green, blue), Size (small, medium, large), and Material (wood, metal, plastic), perform label encoding using Python's scikit-learn library. Show your code and explain the output."
   ]
  },
  {
   "cell_type": "code",
   "execution_count": 2,
   "id": "a5059b4a-5663-49d9-87b5-91232b8c0cbe",
   "metadata": {},
   "outputs": [
    {
     "name": "stdout",
     "output_type": "stream",
     "text": [
      "Original Dataset:\n",
      "   Color    Size Material\n",
      "0    red   small     wood\n",
      "1  green  medium    metal\n",
      "2   blue   large  plastic\n",
      "3  green  medium    metal\n",
      "4    red   small  plastic\n",
      "\n",
      "Encoded Dataset:\n",
      "   Color  Size  Material\n",
      "0      2     2         2\n",
      "1      1     1         0\n",
      "2      0     0         1\n",
      "3      1     1         0\n",
      "4      2     2         1\n"
     ]
    }
   ],
   "source": [
    "from sklearn.preprocessing import LabelEncoder\n",
    "import pandas as pd\n",
    "\n",
    "# Sample dataset\n",
    "data = {\n",
    "    'Color': ['red', 'green', 'blue', 'green', 'red'],\n",
    "    'Size': ['small', 'medium', 'large', 'medium', 'small'],\n",
    "    'Material': ['wood', 'metal', 'plastic', 'metal', 'plastic']\n",
    "}\n",
    "\n",
    "# Convert the dataset to a pandas DataFrame\n",
    "df = pd.DataFrame(data)\n",
    "\n",
    "# Initialize LabelEncoder\n",
    "label_encoder = LabelEncoder()\n",
    "\n",
    "# Apply Label Encoding to each categorical column\n",
    "encoded_data = df.copy()\n",
    "for col in df.columns:\n",
    "    encoded_data[col] = label_encoder.fit_transform(df[col])\n",
    "\n",
    "print(\"Original Dataset:\")\n",
    "print(df)\n",
    "print(\"\\nEncoded Dataset:\")\n",
    "print(encoded_data)\n"
   ]
  },
  {
   "cell_type": "markdown",
   "id": "36043811-30ed-45c8-83bc-88e0d4c98a6c",
   "metadata": {},
   "source": [
    "Output explanation:\n",
    "\n",
    "- The original dataset contains three categorical variables: 'Color', 'Size', and 'Material'.\n",
    "- Each variable has categorical values: 'Color' (red, green, blue), 'Size' (small, medium, large), and 'Material' (wood, metal, plastic).\n",
    "- Label encoding assigns a unique integer to each category within each variable.\n",
    "- The output displays the original dataset and the encoded dataset, where categorical values are replaced with their respective integer labels."
   ]
  },
  {
   "cell_type": "markdown",
   "id": "e74e2ec1-22ee-4eb4-8483-cadeb41ccdc1",
   "metadata": {},
   "source": [
    "### Q5. Calculate the covariance matrix for the following variables in a dataset: Age, Income, and Education level. Interpret the results."
   ]
  },
  {
   "cell_type": "code",
   "execution_count": 3,
   "id": "185a77bd-5b68-40e7-9376-6a838fcfdc30",
   "metadata": {},
   "outputs": [
    {
     "name": "stdout",
     "output_type": "stream",
     "text": [
      "Covariance Matrix:\n",
      "[[6.25e+01 6.25e+04 2.25e+01]\n",
      " [6.25e+04 6.25e+07 2.25e+04]\n",
      " [2.25e+01 2.25e+04 1.00e+01]]\n"
     ]
    }
   ],
   "source": [
    "import numpy as np\n",
    "\n",
    "# Sample data for Age, Income, and Education Level\n",
    "age = [30, 40, 50, 35, 45]\n",
    "income = [50000, 60000, 70000, 55000, 65000]\n",
    "education_level = [12, 16, 18, 14, 20]\n",
    "\n",
    "# Combine the variables into a 2D array\n",
    "data = np.array([age, income, education_level])\n",
    "\n",
    "# Calculate the covariance matrix\n",
    "cov_matrix = np.cov(data)\n",
    "\n",
    "print(\"Covariance Matrix:\")\n",
    "print(cov_matrix)\n"
   ]
  },
  {
   "cell_type": "markdown",
   "id": "a6d2326a-1bd1-48bf-9abd-1c997c65410d",
   "metadata": {},
   "source": [
    "### Q6. You are working on a machine learning project with a dataset containing several categorical variables, including \"Gender\" (Male/Female), \"Education Level\" (High School/Bachelor's/Master's/PhD), and \"Employment Status\" (Unemployed/Part-Time/Full-Time). Which encoding method would you use for each variable, and why?"
   ]
  },
  {
   "cell_type": "markdown",
   "id": "473e0768-06ee-4be1-8f6c-e8088ecbbec0",
   "metadata": {},
   "source": [
    "1. **Gender (Male/Female):**\n",
    "   - Encoding Method: Label Encoding\n",
    "   - Explanation: Since there are only two categories and no inherent order between them, label encoding is appropriate. Assigning 0 to one category and 1 to the other preserves the distinction between the two categories without implying any order.\n",
    "\n",
    "2. **Education Level (High School/Bachelor's/Master's/PhD):**\n",
    "   - Encoding Method: Ordinal Encoding\n",
    "   - Explanation: There's a clear order or hierarchy among the categories (High School < Bachelor's < Master's < PhD). Ordinal encoding preserves this order by assigning integers accordingly. This allows the machine learning algorithm to understand and utilize the ordinal relationship between education levels.\n",
    "\n",
    "3. **Employment Status (Unemployed/Part-Time/Full-Time):**\n",
    "   - Encoding Method: Target Guided Ordinal Encoding or One-Hot Encoding\n",
    "   - Explanation:\n",
    "      - If there's a clear order or hierarchy among the categories (e.g., Unemployed < Part-Time < Full-Time), you can use Target Guided Ordinal Encoding to encode the categories based on their relationship with the target variable (e.g., average salary).\n",
    "      - Alternatively, if there's no inherent order among the categories or you want to treat them as independent, you can use One-Hot Encoding to create binary variables for each category. This ensures that the model doesn't interpret any ordinal relationship between the categories."
   ]
  },
  {
   "cell_type": "markdown",
   "id": "640b9c8b-33de-4721-b969-bb786632ecf6",
   "metadata": {},
   "source": [
    "### Q7. You are analyzing a dataset with two continuous variables, \"Temperature\" and \"Humidity\", and two categorical variables, \"Weather Condition\" (Sunny/Cloudy/Rainy) and \"Wind Direction\" (North/South/ East/West). Calculate the covariance between each pair of variables and interpret the results."
   ]
  },
  {
   "cell_type": "code",
   "execution_count": 4,
   "id": "764ceca7-abf9-46ba-94cb-7f2d10501c0a",
   "metadata": {},
   "outputs": [
    {
     "name": "stdout",
     "output_type": "stream",
     "text": [
      "Covariance Matrix:\n",
      "[[ 5.   -1.25 -0.5  -2.5 ]\n",
      " [-1.25 62.5  -1.25  1.25]\n",
      " [-0.5  -1.25  0.7   0.35]\n",
      " [-2.5   1.25  0.35  1.3 ]]\n"
     ]
    }
   ],
   "source": [
    "import numpy as np\n",
    "\n",
    "# Sample data for Temperature, Humidity, Weather Condition, and Wind Direction\n",
    "temperature = [25, 28, 22, 24, 26]\n",
    "humidity = [60, 70, 75, 55, 65]\n",
    "weather_condition = [0, 1, 1, 2, 0]  # 0: Sunny, 1: Cloudy, 2: Rainy\n",
    "wind_direction = [1, 0, 3, 2, 1]      # 0: North, 1: South, 2: East, 3: West\n",
    "\n",
    "# Combine the variables into a 2D array\n",
    "data = np.array([temperature, humidity, weather_condition, wind_direction])\n",
    "\n",
    "# Calculate the covariance matrix\n",
    "cov_matrix = np.cov(data)\n",
    "\n",
    "print(\"Covariance Matrix:\")\n",
    "print(cov_matrix)\n"
   ]
  },
  {
   "cell_type": "markdown",
   "id": "28e473ed-61f4-477e-ac68-2fd1861974fa",
   "metadata": {},
   "source": [
    "Interpretation of the results:\n",
    "\n",
    "- The covariance matrix is a 4x4 matrix representing the covariance between each pair of variables (Temperature, Humidity, Weather Condition, Wind Direction).\n",
    "- Positive values in the covariance matrix indicate that the variables tend to move together, while negative values indicate that they move in opposite directions.\n",
    "- Zero values indicate no linear relationship between the variables.\n",
    "- The diagonal elements of the matrix represent the variance of each variable.\n",
    "- Off-diagonal elements represent the covariance between pairs of variables."
   ]
  }
 ],
 "metadata": {
  "kernelspec": {
   "display_name": "Python 3 (ipykernel)",
   "language": "python",
   "name": "python3"
  },
  "language_info": {
   "codemirror_mode": {
    "name": "ipython",
    "version": 3
   },
   "file_extension": ".py",
   "mimetype": "text/x-python",
   "name": "python",
   "nbconvert_exporter": "python",
   "pygments_lexer": "ipython3",
   "version": "3.10.8"
  }
 },
 "nbformat": 4,
 "nbformat_minor": 5
}
